{
 "cells": [
  {
   "cell_type": "code",
   "execution_count": 1,
   "id": "2c012e56",
   "metadata": {},
   "outputs": [
    {
     "name": "stdout",
     "output_type": "stream",
     "text": [
      "/home/amir/study/langchain_vectordb\n"
     ]
    },
    {
     "name": "stderr",
     "output_type": "stream",
     "text": [
      "/home/amir/.cache/pypoetry/virtualenvs/langchain-vectordb-Chhx0xS9-py3.10/lib/python3.10/site-packages/IPython/core/magics/osm.py:417: UserWarning: This is now an optional IPython functionality, setting dhist requires you to install the `pickleshare` library.\n",
      "  self.shell.db['dhist'] = compress_dhist(dhist)[-100:]\n"
     ]
    }
   ],
   "source": [
    "cd ../"
   ]
  },
  {
   "cell_type": "code",
   "execution_count": 2,
   "id": "c055ec8e",
   "metadata": {},
   "outputs": [],
   "source": [
    "import os\n",
    "from dotenv import load_dotenv\n",
    "\n",
    "load_dotenv()\n",
    "\n",
    "api_key: str = os.getenv(\"api_key\", \"\")\n",
    "base_url: str = os.getenv(\"base_url\", \"\")"
   ]
  },
  {
   "cell_type": "code",
   "execution_count": 34,
   "id": "11921ebe",
   "metadata": {},
   "outputs": [],
   "source": [
    "from langchain_openai import ChatOpenAI\n",
    "\n",
    "llm = ChatOpenAI(\n",
    "    model=\"gpt-5-nano-2025-08-07\",\n",
    "    api_key=api_key,\n",
    "    base_url=base_url,\n",
    ")\n"
   ]
  },
  {
   "cell_type": "code",
   "execution_count": 4,
   "id": "14d9997d",
   "metadata": {},
   "outputs": [
    {
     "data": {
      "text/plain": [
       "ChatPromptValue(messages=[SystemMessage(content='Ты полезный AI-ассистент с чувством юмора.', additional_kwargs={}, response_metadata={}), HumanMessage(content='Расскажи мне шутку на тему - космос', additional_kwargs={}, response_metadata={})])"
      ]
     },
     "execution_count": 4,
     "metadata": {},
     "output_type": "execute_result"
    }
   ],
   "source": [
    "from langchain.prompts import ChatPromptTemplate\n",
    "\n",
    "prompt_template = ChatPromptTemplate([\n",
    "    (\"system\", \"Ты полезный AI-ассистент с чувством юмора.\"),\n",
    "    (\"user\", \"Расскажи мне шутку на тему - {topic}\"),\n",
    "])\n",
    "prompt_template.invoke({\"topic\": \"космос\"})"
   ]
  },
  {
   "cell_type": "code",
   "execution_count": 5,
   "id": "7c3c6567",
   "metadata": {},
   "outputs": [],
   "source": [
    "from langchain.prompts import PromptTemplate\n",
    "\n",
    "template = \"\"\"\n",
    "Перепиши этот текcт в заданном стиле: {input_text}\n",
    "Стиль: {style}.\n",
    "Результат:\n",
    "\"\"\"\n",
    "prompt = PromptTemplate(\n",
    "    input_variables=['text', 'style'],\n",
    "    template=template \n",
    ")\n",
    "style_changer_chain = prompt | llm"
   ]
  },
  {
   "cell_type": "code",
   "execution_count": 9,
   "id": "8c03bdb7",
   "metadata": {},
   "outputs": [
    {
     "name": "stdout",
     "output_type": "stream",
     "text": [
      "content='Приветствую вас, досточтимые читатели, на курсе по тюнингу языковых моделей. Здесь мы учимся придать моделям речевым ещё более благородный облик и раскрыть до предела их скрытый потенциал; предлагаем советы по самым свежим методам обучения и настройки этих умных машин, и воспитаем вместе практические умения, необходимые для решения самых сложных задач в деле обработки естественного языка.' additional_kwargs={'refusal': None} response_metadata={'token_usage': {'completion_tokens': 2153, 'prompt_tokens': 113, 'total_tokens': 2266, 'completion_tokens_details': {'accepted_prediction_tokens': 0, 'audio_tokens': 0, 'reasoning_tokens': 2048, 'rejected_prediction_tokens': 0}, 'prompt_tokens_details': {'audio_tokens': 0, 'cached_tokens': 0}}, 'model_name': 'gpt-5-nano-2025-08-07', 'system_fingerprint': None, 'id': 'chatcmpl-CLtfgysqocamPKMTt7RCQDgMA5YEN', 'service_tier': 'default', 'finish_reason': 'stop', 'logprobs': None} id='run--080c4f0d-accd-4d73-87ad-512cbd3c211f-0' usage_metadata={'input_tokens': 113, 'output_tokens': 2153, 'total_tokens': 2266, 'input_token_details': {'audio': 0, 'cache_read': 0}, 'output_token_details': {'audio': 0, 'reasoning': 2048}}\n"
     ]
    }
   ],
   "source": [
    "text = '''Приветствуем на курсе по тюнингу языковых моделей! \n",
    "Тут мы учим, как сделать модельки еще круче и раскрыть их потенциал до максимума. \n",
    "Мы дадим вам советы по самым свежим методам обучения и настройки языковых моделей, \n",
    "а также научим практическим навыкам для решения сложных задач в обработке естественного языка.'''\n",
    "style = 'Роман 18 века'\n",
    "\n",
    "answer = style_changer_chain.invoke({'input_text': text, 'style': style})\n",
    "print(answer)"
   ]
  },
  {
   "cell_type": "code",
   "execution_count": 10,
   "id": "7a2e7968",
   "metadata": {},
   "outputs": [
    {
     "name": "stdout",
     "output_type": "stream",
     "text": [
      "Приветствую вас, досточтимые читатели, на курсе по тюнингу языковых моделей. Здесь мы учимся придать моделям речевым ещё более благородный облик и раскрыть до предела их скрытый потенциал; предлагаем советы по самым свежим методам обучения и настройки этих умных машин, и воспитаем вместе практические умения, необходимые для решения самых сложных задач в деле обработки естественного языка.\n"
     ]
    }
   ],
   "source": [
    "print(answer.content)"
   ]
  },
  {
   "cell_type": "code",
   "execution_count": 11,
   "id": "733da0e4",
   "metadata": {},
   "outputs": [],
   "source": [
    "batch_answer = style_changer_chain.batch([\n",
    "    {'input_text': text, 'style': 'В стиле времен советского союза 1950 гг'},\n",
    "    {'input_text': text, 'style': 'В стиле поэмы'}\n",
    "])"
   ]
  },
  {
   "cell_type": "code",
   "execution_count": 13,
   "id": "de3257c4",
   "metadata": {},
   "outputs": [
    {
     "data": {
      "text/plain": [
       "'Товарищи! Добро пожаловать на курс по тюнингу языковых моделей. Здесь мы учимся превращать модели в ещё более мощные и крепкие инструменты, раскрывая их потенциал до предела возможностей науки и техники. Мы дадим вам советы по передовым методам обучения и настройки языковых моделей, а также обучим практическим навыкам для решения самых сложных задач в области обработки естественного языка. Да здравствует научный труд, да здравствует прогресс и победы техники!'"
      ]
     },
     "execution_count": 13,
     "metadata": {},
     "output_type": "execute_result"
    }
   ],
   "source": [
    "batch_answer[0].content"
   ]
  },
  {
   "cell_type": "code",
   "execution_count": 15,
   "id": "a252cf27",
   "metadata": {},
   "outputs": [
    {
     "name": "stdout",
     "output_type": "stream",
     "text": [
      "Добро пожаловать на курс по тюнингу языковых моделей,\n",
      "где слова и коды сплетаются в новый гимн данных.\n",
      "Мы учим вас делать модели ещё круче,\n",
      "раскрывать их потенциал до максимума — без границ.\n",
      "\n",
      "Мы дадим советы по самым свежим методам обучения\n",
      "и тонкой настройке языковых моделей,\n",
      "а также научим практическим навыкам для решения\n",
      "сложнейших задач в обработке естественного языка.\n",
      "\n",
      "Пусть этот путь звучит стихами алгоритмов,\n",
      "пусть каждая идея загорается искрой новых трактовок,\n",
      "и ваш опыт растёт — шаг за шагом к вершинам понимания.\n"
     ]
    }
   ],
   "source": [
    "print(batch_answer[1].content)"
   ]
  },
  {
   "cell_type": "code",
   "execution_count": 16,
   "id": "a92479c1",
   "metadata": {},
   "outputs": [
    {
     "name": "stdout",
     "output_type": "stream",
     "text": [
      "Добро пожаловать в курс тюнинга языковых моделей,\n",
      "где шепчет нейронный океан и искрят строки данных.\n",
      "Мы учим: как сделать модели ещё круче,\n",
      "как раскрыть их потенциал до максимума — без границ и стен.\n",
      "\n",
      "Мы принесём советы по самым свежим методам обучения и настройки,\n",
      "как ветер—между слоями и параметрами лёгко проскользнуть.\n",
      "И научим практическим навыкам для решения задач,\n",
      "что в обработке естественного языка стоят над веками вопросов.\n"
     ]
    }
   ],
   "source": [
    "from langchain.schema.output_parser import StrOutputParser\n",
    "chain_with_parser = prompt | llm | StrOutputParser()\n",
    "\n",
    "print(chain_with_parser.invoke({'input_text': text, 'style': 'В стиле поэмы'}))"
   ]
  },
  {
   "cell_type": "code",
   "execution_count": 17,
   "id": "e7273011",
   "metadata": {},
   "outputs": [
    {
     "name": "stdout",
     "output_type": "stream",
     "text": [
      "Приветствуем на курсе по тюнингу языковых моделей! \n",
      "Тут мы учим, как сделать модельки еще круче и раскрыть их потенциал до максимума. \n",
      "Мы дадим вам советы по самым свежим методам обучения и настройки языковых моделей,\n",
      "а также научим практическим навыкам для решения сложных задач в обработке естественного языка.\n"
     ]
    }
   ],
   "source": [
    "import re\n",
    "\n",
    "def del_spaces(inputs: dict) -> dict:\n",
    "    text = inputs[\"input_text\"]\n",
    "    style = inputs[\"style\"]\n",
    "    \n",
    "    # заменяем пустые строки и дополнительные пробелы на один, используя регулярные выражения\n",
    "    text = re.sub(r'(\\r\\n|\\r|\\n){2,}', r'\\n', text)\n",
    "    text = re.sub(r'[ \\t]+', ' ', text)\n",
    "\n",
    "    return {\"input_text\": text, 'style': style}\n",
    "\n",
    "dirty_text = '''Приветствуем на курсе по        тюнингу языковых        моделей! \n",
    "\n",
    "Тут мы учим, как сделать модельки еще круче и раскрыть     их потенциал до максимума. \n",
    "Мы дадим вам советы по   самым свежим методам  обучения и настройки языковых                    моделей,\n",
    "\n",
    "а также научим практическим навыкам для        решения сложных задач в обработке естественного языка.'''\n",
    "\n",
    "print(del_spaces({'input_text': dirty_text, 'style': 'Рэп'})['input_text'])"
   ]
  },
  {
   "cell_type": "code",
   "execution_count": 18,
   "id": "a0193190",
   "metadata": {},
   "outputs": [
    {
     "name": "stdout",
     "output_type": "stream",
     "text": [
      "Результат:\n",
      "Йо, привет на курсе тюнинга языковых моделей,\n",
      "Здесь поднимаем их крутизну и раскрываем потенциал до максимума.\n",
      "Мы учим, как сделать модельки ещё круче и зажечь их внутри,\n",
      "Прокачаем гиперпараметры и методы обучения — без пауз и суеты внутри.\n",
      "Дадим вам свежайшие советы по настройке и архитектуре,\n",
      "И на практике научим решать НЛП-задачи — чётко, быстро, без мути и фигуры.\n",
      "Код на битах, пайплайны в ритме — движемся вперёд без промаха,\n",
      "Этот рэп-курс — место, где наука встречается с стилем и движухой.\n"
     ]
    }
   ],
   "source": [
    "seq_chain = del_spaces | prompt | llm |  StrOutputParser() # Готово!!!\n",
    "print(seq_chain.invoke({'input_text': dirty_text, 'style': 'Рэп'}))"
   ]
  },
  {
   "cell_type": "code",
   "execution_count": 19,
   "id": "d361eef2",
   "metadata": {},
   "outputs": [
    {
     "name": "stdout",
     "output_type": "stream",
     "text": [
      "Se encuentra en Italia.\n"
     ]
    }
   ],
   "source": [
    "from operator import itemgetter\n",
    "from langchain.prompts import ChatPromptTemplate\n",
    "\n",
    "prompt_1 = ChatPromptTemplate.from_template(\"В каком городе родился {person}?\")\n",
    "prompt_2 = ChatPromptTemplate.from_template(\"В какой стране находится город {city}? Ответь на {language} языке.\")\n",
    "\n",
    "chain_1 = prompt_1 | llm | StrOutputParser()\n",
    "chain_2 = (\n",
    "    {\"city\": chain_1, \"language\": itemgetter(\"language\")}\n",
    "    | prompt_2 \n",
    "    | llm \n",
    "    | StrOutputParser()\n",
    ")\n",
    "result = chain_2.invoke({\"person\": \"Колумб\", \"language\": \"испанском\"})\n",
    "print(result)"
   ]
  },
  {
   "cell_type": "code",
   "execution_count": 21,
   "id": "e9fb1961",
   "metadata": {},
   "outputs": [],
   "source": [
    "from typing import Literal\n",
    "from langchain.schema.runnable import RunnableBranch, RunnablePassthrough\n",
    "from langchain.output_parsers.openai_functions import PydanticAttrOutputFunctionsParser\n",
    "from pydantic import BaseModel\n",
    "from langchain_core.utils.function_calling import convert_to_openai_function"
   ]
  },
  {
   "cell_type": "code",
   "execution_count": 23,
   "id": "b0baa6ba",
   "metadata": {},
   "outputs": [],
   "source": [
    "botanist_template = \"\"\"Ты очень опытный флорист и ботаник, знаешь всё о цветах, растениях.\n",
    "Тебе нравится отвечать на вопросы о том, как выбирать и ухаживать за растениями. \n",
    "Ты отвечаешь так, что всё становится ясно даже начинающему цветоводу. \n",
    "Вот вопрос:\n",
    "{input}\"\"\"\n",
    "\n",
    "football_template = \"\"\"Ты спортивный журналист с большим опытом, твоя основная специализация футбол.\n",
    "Ты знаешь всё о футбольных командах и игроках, и очень любишь отвечать на вопросы о футболе, но кратко и по делу.\n",
    "Вот вопрос:\n",
    "{input}\"\"\"\n",
    "\n",
    "botanist_prompt = PromptTemplate.from_template(botanist_template)\n",
    "football_prompt = PromptTemplate.from_template(football_template)\n",
    "\n",
    "# Создаём ветки\n",
    "prompt_branch = RunnableBranch(\n",
    "    (lambda x: x[\"topic\"] == \"botany\", botanist_prompt),\n",
    "    (lambda x: x[\"topic\"] == \"football\", football_prompt),\n",
    "    PromptTemplate.from_template(\"Answer the question: {input}\"),\n",
    ")"
   ]
  },
  {
   "cell_type": "code",
   "execution_count": 26,
   "id": "5801927b",
   "metadata": {},
   "outputs": [],
   "source": [
    "class TopicClassifier(BaseModel):\n",
    "    \"Classify the topic of the user question\"\n",
    "    topic: Literal[\"botany\", \"football\", \"general\"]\n",
    "    \n",
    "    \n",
    "classifier_function = convert_to_openai_function(TopicClassifier)\n",
    "\n",
    "model = ChatOpenAI(\n",
    "    api_key=api_key,\n",
    "    base_url=base_url,\n",
    "    model='gpt-5-nano-2025-08-07', \n",
    "    ).bind(\n",
    "        functions=[classifier_function],\n",
    "        function_call={\"name\": \"TopicClassifier\"}\n",
    "    )\n",
    "parser = PydanticAttrOutputFunctionsParser(pydantic_schema=TopicClassifier, attr_name=\"topic\")\n",
    "\n",
    "classifier_chain = model | parser"
   ]
  },
  {
   "cell_type": "code",
   "execution_count": 28,
   "id": "d93a9867",
   "metadata": {},
   "outputs": [
    {
     "data": {
      "text/plain": [
       "'football'"
      ]
     },
     "execution_count": 28,
     "metadata": {},
     "output_type": "execute_result"
    }
   ],
   "source": [
    "classifier_chain.invoke(\"Какие цвета у Милана?\")"
   ]
  },
  {
   "cell_type": "code",
   "execution_count": 29,
   "id": "c658479d",
   "metadata": {},
   "outputs": [
    {
     "data": {
      "text/plain": [
       "'botany'"
      ]
     },
     "execution_count": 29,
     "metadata": {},
     "output_type": "execute_result"
    }
   ],
   "source": [
    "classifier_chain.invoke(\"Сколько раз в неделю поливать кактус?\")"
   ]
  },
  {
   "cell_type": "code",
   "execution_count": 30,
   "id": "7305f066",
   "metadata": {},
   "outputs": [
    {
     "data": {
      "text/plain": [
       "'general'"
      ]
     },
     "execution_count": 30,
     "metadata": {},
     "output_type": "execute_result"
    }
   ],
   "source": [
    "classifier_chain.invoke(\"Столица Хорватии?\")"
   ]
  },
  {
   "cell_type": "code",
   "execution_count": 31,
   "id": "9ff13ef9",
   "metadata": {},
   "outputs": [],
   "source": [
    "router_chain = (\n",
    "    RunnablePassthrough.assign(topic=itemgetter(\"input\") | classifier_chain)\n",
    "    | prompt_branch | llm | StrOutputParser()\n",
    ")"
   ]
  },
  {
   "cell_type": "code",
   "execution_count": 32,
   "id": "3c3212d2",
   "metadata": {},
   "outputs": [
    {
     "data": {
      "text/plain": [
       "'Основные цвета Барселоны — сине-гранатовый: сочетание синего и бордового (клуб часто называют Blaugrana).'"
      ]
     },
     "execution_count": 32,
     "metadata": {},
     "output_type": "execute_result"
    }
   ],
   "source": [
    "router_chain.invoke({'input': \"Какие цвета у Барселоны?\"})"
   ]
  },
  {
   "cell_type": "code",
   "execution_count": 33,
   "id": "9d9385ba",
   "metadata": {},
   "outputs": [
    {
     "data": {
      "text/plain": [
       "'Коротко: у кактусов нет фиксированной нормы «раз в неделю». Полив зависит от вида, размера горшка, почвы и условий — главное правило: между поливами должна быть сухая почва.\\n\\nКак понять когда поливать:\\n- Проверяйте почву на глубине 2–3 см. Если она сухая — можно поливать; если ещё влажная — подождать.\\n- Поливайте обильно: вода должна выйти через дренажное отверстие, после чего лишняя вода должна полностью слиться из поддона. Не оставляйте воду в горшке.\\n\\nПримерный ориентир по времени (для обычного комнатного кактуса в хорошо дренажной почве):\\n- Весна–лето (более светло и тепло): каждые 2–3 недели. В особенно жарких условиях иногда может потребоваться короче между поливами, но ориентируйтесь на сухость почвы.\\n- Осень: примерно каждые 3–4 недели.\\n- Зима (покой): раз в 4–6 недель или ещё реже, если держать прохладнее и светло — минимальный полив.\\n\\nО чем помнить:\\n- Важнее не конкретная «неделя»/«период» — чем сухость почвы между поливами.\\n- Следите за признаками: переувлажнение вызывает мягкие/плесневелые участки, желтизну и слабый рост; пересохшая почва — растение может сморщиться, но восстанавливается после полива.\\n- Убедитесь в хорошем дренажe, используйте специальную почву для суккулентов и горшок с дренажными отверстиями.\\n\\nЕсли скажете вид кактуса и условия (размер горшка, температура, освещенность), дам точный график под ваш случай.'"
      ]
     },
     "execution_count": 33,
     "metadata": {},
     "output_type": "execute_result"
    }
   ],
   "source": [
    "router_chain.invoke({'input':\"Сколько раз в неделю поливать кактус?\"})"
   ]
  },
  {
   "cell_type": "code",
   "execution_count": null,
   "id": "6cbd2194",
   "metadata": {},
   "outputs": [],
   "source": []
  },
  {
   "cell_type": "code",
   "execution_count": 35,
   "id": "fe2eb690",
   "metadata": {},
   "outputs": [],
   "source": [
    "from langchain_openai import ChatOpenAI\n",
    "from langchain.prompts import ChatPromptTemplate \n",
    "\n",
    "llm = ChatOpenAI(\n",
    "    model=\"gpt-5-nano-2025-08-07\",\n",
    "    api_key=api_key,\n",
    "    base_url=base_url,\n",
    ")\n",
    "\n",
    "template = ChatPromptTemplate([\n",
    "    (\"system\", \"Ты  прекрасный синефил и кономан, повидавший почти все фильмы\"),\n",
    "    (\"user\", \"Пожалуйста посоветуй {num_movies} фильмов {type}, с примерно следующим сюжетом: {content}\"),\n",
    "])\n",
    "\n",
    "chain = template | llm\n",
    "\n",
    "num_movies = 20\n",
    "type_ = \"Триллер\"\n",
    "content = \"\"\" \n",
    "Примерно следующий - происходят очень загадочные вещи, трудно объяснимые рационально,\n",
    "кажется какая-то мистика, но в конце фильма - все объясняется очень рационально и зритель\n",
    "получает ответ на все вопросы\n",
    "\"\"\"\n",
    "\n",
    "ans = chain.invoke({\"num_movies\": num_movies, \"type\": type_, \"content\": content})"
   ]
  },
  {
   "cell_type": "code",
   "execution_count": 37,
   "id": "04f49c94",
   "metadata": {},
   "outputs": [
    {
     "name": "stdout",
     "output_type": "stream",
     "text": [
      "Отличная задача. Ниже 20 триллеров, где в начале кажется, что творится что-то мистическое или необъяснимое, но в финале все объясняется рационально и зрителю дают ясный ответ.\n",
      "\n",
      "1) Usual Suspects (1995) — хитрая история с путаницей персонажей; развязка раскрывает, кто такой Кайзер-Созе и как была построена вся легенда.\n",
      "\n",
      "2) The Game (1997) — реальность и игра перемешаны, а в конце объясняется, что это тщательно спланированная хитрость ради личного преображения героя.\n",
      "\n",
      "3) Fight Club (1999) — многие элементы кажутся мистическими/сомнительными, но окончательная развязка объясняет их через психическое расстройство и внутреннюю реальность героя.\n",
      "\n",
      "4) Memento (2000) — система амнезии и запоминания резко кажутся запутанной; финал объясняет, как и зачем герой строил свои воспоминания.\n",
      "\n",
      "5) The Prestige (2006) — кажется, что происходит магия и мистификация; на деле это научные трюки, обременённые этическими последствиями, которые разворачиваются через рациональные объяснения.\n",
      "\n",
      "6) Oldboy (2003) — сюжет полон загадок и местами жестоких тайн; финал объясняет мотивацию и цепочку событий.\n",
      "\n",
      "7) Shutter Island (2010) — вначале атмосферный мистический триллер; в финале становится понятной вся концепция психиатрической игры и лечения.\n",
      "\n",
      "8) Identity (2003) — серия смертей в одном месте кажется сверхъестественной; развязка показывает, что это психологический эксперимент с рациональным объяснением.\n",
      "\n",
      "9) Gone Girl (2014) — исчезновение и манипуляции вокруг его — кажется, что всё надуманно; финал даёт чёткое объяснение и мотивацию всем действиям.\n",
      "\n",
      "10) Primal Fear (1996) — правдиво звучащая история об убийстве и ложной вине; развязка даёт ясный и рациональный ответ.\n",
      "\n",
      "11) Timecrimes (2007) — творческий триллер о временных петлях; финал предлагает понятное физически обоснованное объяснение произошедшего.\n",
      "\n",
      "12) Coherence (2013) — загадки вокруг необычных явлений кажутся сверхъестественными; финал поясняет их через вероятность и параллельные вселенные.\n",
      "\n",
      "13) The Invisible Guest (Contratiempo) (2016) — юридический триллер с многоступенчатой интригой; в финале становится ясно, как все связано и зачем.\n",
      "\n",
      "14) The Vanishing (1988) — исчезновение далеко не мистическое; финал даёт чёткое объяснение, основанное на мотивах и последствиях.\n",
      "\n",
      "15) Before I Go to Sleep (2014) — главный персонаж просыпается каждый день без памяти; развязка объясняет, что реально происходило и почему.\n",
      "\n",
      "16) A Simple Plan (1998) — находка денег приводит всех к преступлению; развязка объясняет мораль и последствия рационально.\n",
      "\n",
      "17) The Thirteenth Floor (1999) — ощущение «постороннего» мира; финал объясняет, почему они живут в симуляции и как это работает.\n",
      "\n",
      "18) Exam (2009) — группа кандидатов на работу; атмосфера тайны и конкуренции; концовка объясняет истинную цель теста и порядок действий.\n",
      "\n",
      "19) The Secret in Their Eyes (2009) — запутанное расследование и долгоживущие последствия; финальная развязка проясняет, кто и зачем сделал то, что сделал.\n",
      "\n",
      "20) Forgotten (2017) — корейский триллер о памяти и манипуляциях; концовка даёт ясное объяснение того, что произошло на самом деле.\n",
      "\n",
      "Если хотите, могу дополнительно:\n",
      "- подобрать фильмы под конкретный язык (русский, европейский, американский) или под конкретный поджанр (психологический триллер, детективный триллер, юридический триллер).\n",
      "- добавить отечественные фильмы с похожей концепцией развязки.\n"
     ]
    }
   ],
   "source": [
    "print(ans.content)"
   ]
  },
  {
   "cell_type": "code",
   "execution_count": null,
   "id": "99a091e9",
   "metadata": {},
   "outputs": [],
   "source": []
  },
  {
   "cell_type": "code",
   "execution_count": null,
   "id": "11c33850",
   "metadata": {},
   "outputs": [],
   "source": []
  }
 ],
 "metadata": {
  "kernelspec": {
   "display_name": "langchain-vectordb-Chhx0xS9-py3.10",
   "language": "python",
   "name": "python3"
  },
  "language_info": {
   "codemirror_mode": {
    "name": "ipython",
    "version": 3
   },
   "file_extension": ".py",
   "mimetype": "text/x-python",
   "name": "python",
   "nbconvert_exporter": "python",
   "pygments_lexer": "ipython3",
   "version": "3.10.12"
  }
 },
 "nbformat": 4,
 "nbformat_minor": 5
}
