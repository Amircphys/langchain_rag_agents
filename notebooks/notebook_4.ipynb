{
 "cells": [
  {
   "cell_type": "code",
   "execution_count": 1,
   "id": "255024f5",
   "metadata": {},
   "outputs": [],
   "source": [
    "import os\n",
    "from dotenv import load_dotenv\n",
    "\n",
    "load_dotenv()\n",
    "\n",
    "api_key: str = os.getenv(\"api_key\", \"\")\n",
    "base_url: str = os.getenv(\"base_url\", \"\")\n",
    "\n",
    "from langchain_openai import ChatOpenAI\n",
    "\n",
    "llm = ChatOpenAI(\n",
    "    model=\"gpt-4.1-nano-2025-04-14\",\n",
    "    api_key=api_key,\n",
    "    base_url=base_url,\n",
    ")"
   ]
  },
  {
   "cell_type": "code",
   "execution_count": 2,
   "id": "deae50fc",
   "metadata": {},
   "outputs": [
    {
     "name": "stdout",
     "output_type": "stream",
     "text": [
      "Page: Large language model\n",
      "Summary: A large language model (LLM) is a language model trained with self-supervised machine learning on \n"
     ]
    }
   ],
   "source": [
    "from langchain_community.tools import WikipediaQueryRun\n",
    "from langchain_community.utilities import WikipediaAPIWrapper\n",
    "\n",
    "api_wrapper = WikipediaAPIWrapper(\n",
    "    top_k_results=1,\n",
    "    doc_content_chars_max=134\n",
    ")\n",
    "\n",
    "tool = WikipediaQueryRun(api_wrapper=api_wrapper)\n",
    "print(tool.invoke({\"query\": \"LLM\"}))\n",
    "\n"
   ]
  },
  {
   "cell_type": "code",
   "execution_count": 3,
   "id": "5de9a0c2",
   "metadata": {},
   "outputs": [
    {
     "name": "stdout",
     "output_type": "stream",
     "text": [
      "api_wrapper=WikipediaAPIWrapper(wiki_client=<module 'wikipedia' from '/home/amir/anaconda3/envs/myenv/lib/python3.10/site-packages/wikipedia/__init__.py'>, top_k_results=3, lang='en', load_all_available_meta=False, doc_content_chars_max=4000)\n",
      "name='Calculator' description='Useful for when you need to answer questions about math.' func=<bound method Chain.run of LLMMathChain(verbose=False, llm_chain=LLMChain(verbose=False, prompt=PromptTemplate(input_variables=['question'], input_types={}, partial_variables={}, template='Translate a math problem into a expression that can be executed using Python\\'s numexpr library. Use the output of running this code to answer the question.\\n\\nQuestion: ${{Question with math problem.}}\\n```text\\n${{single line mathematical expression that solves the problem}}\\n```\\n...numexpr.evaluate(text)...\\n```output\\n${{Output of running the code}}\\n```\\nAnswer: ${{Answer}}\\n\\nBegin.\\n\\nQuestion: What is 37593 * 67?\\n```text\\n37593 * 67\\n```\\n...numexpr.evaluate(\"37593 * 67\")...\\n```output\\n2518731\\n```\\nAnswer: 2518731\\n\\nQuestion: 37593^(1/5)\\n```text\\n37593**(1/5)\\n```\\n...numexpr.evaluate(\"37593**(1/5)\")...\\n```output\\n8.222831614237718\\n```\\nAnswer: 8.222831614237718\\n\\nQuestion: {question}\\n'), llm=ChatOpenAI(client=<openai.resources.chat.completions.completions.Completions object at 0x72903b6fa8f0>, async_client=<openai.resources.chat.completions.completions.AsyncCompletions object at 0x72903ad19780>, root_client=<openai.OpenAI object at 0x72903b6fb400>, root_async_client=<openai.AsyncOpenAI object at 0x72903ad196c0>, model_name='gpt-4.1-nano-2025-04-14', model_kwargs={}, openai_api_key=SecretStr('**********'), openai_api_base='https://api.proxyapi.ru/openai/v1'), output_parser=StrOutputParser(), llm_kwargs={}))> coroutine=<bound method Chain.arun of LLMMathChain(verbose=False, llm_chain=LLMChain(verbose=False, prompt=PromptTemplate(input_variables=['question'], input_types={}, partial_variables={}, template='Translate a math problem into a expression that can be executed using Python\\'s numexpr library. Use the output of running this code to answer the question.\\n\\nQuestion: ${{Question with math problem.}}\\n```text\\n${{single line mathematical expression that solves the problem}}\\n```\\n...numexpr.evaluate(text)...\\n```output\\n${{Output of running the code}}\\n```\\nAnswer: ${{Answer}}\\n\\nBegin.\\n\\nQuestion: What is 37593 * 67?\\n```text\\n37593 * 67\\n```\\n...numexpr.evaluate(\"37593 * 67\")...\\n```output\\n2518731\\n```\\nAnswer: 2518731\\n\\nQuestion: 37593^(1/5)\\n```text\\n37593**(1/5)\\n```\\n...numexpr.evaluate(\"37593**(1/5)\")...\\n```output\\n8.222831614237718\\n```\\nAnswer: 8.222831614237718\\n\\nQuestion: {question}\\n'), llm=ChatOpenAI(client=<openai.resources.chat.completions.completions.Completions object at 0x72903b6fa8f0>, async_client=<openai.resources.chat.completions.completions.AsyncCompletions object at 0x72903ad19780>, root_client=<openai.OpenAI object at 0x72903b6fb400>, root_async_client=<openai.AsyncOpenAI object at 0x72903ad196c0>, model_name='gpt-4.1-nano-2025-04-14', model_kwargs={}, openai_api_key=SecretStr('**********'), openai_api_base='https://api.proxyapi.ru/openai/v1'), output_parser=StrOutputParser(), llm_kwargs={}))>\n"
     ]
    }
   ],
   "source": [
    "from langchain.agents import load_tools\n",
    "\n",
    "tools = load_tools(['wikipedia', 'llm-math'], llm=llm)\n",
    "print(tools[0])\n",
    "print(tools[1])"
   ]
  },
  {
   "cell_type": "code",
   "execution_count": 4,
   "id": "bdd51a27",
   "metadata": {},
   "outputs": [],
   "source": [
    "# tools[1].invoke('''2 * 3''')"
   ]
  },
  {
   "cell_type": "code",
   "execution_count": 5,
   "id": "145ae0dd",
   "metadata": {},
   "outputs": [
    {
     "data": {
      "text/plain": [
       "9"
      ]
     },
     "execution_count": 5,
     "metadata": {},
     "output_type": "execute_result"
    }
   ],
   "source": [
    "# Напишем функцию, которая считает количество символов в слове\n",
    "def word_len(word):\n",
    "    return len(word)\n",
    "    \n",
    "word_len('langchain')"
   ]
  },
  {
   "cell_type": "code",
   "execution_count": 6,
   "id": "34053315",
   "metadata": {},
   "outputs": [
    {
     "name": "stdout",
     "output_type": "stream",
     "text": [
      "name='Word length' description='Считает количество символов в слове' func=<function word_len at 0x72903a2c39a0>\n"
     ]
    }
   ],
   "source": [
    "from langchain_core.tools import Tool, StructuredTool\n",
    "\n",
    "word_len_tool = Tool(\n",
    "    name = \"Word length\",\n",
    "    func = word_len,\n",
    "    description='Считает количество символов в слове'\n",
    ")\n",
    "print(word_len_tool)"
   ]
  },
  {
   "cell_type": "code",
   "execution_count": 7,
   "id": "dc5646ac",
   "metadata": {},
   "outputs": [
    {
     "data": {
      "text/plain": [
       "9"
      ]
     },
     "execution_count": 7,
     "metadata": {},
     "output_type": "execute_result"
    }
   ],
   "source": [
    "word_len_tool.invoke(\"langchain\")"
   ]
  },
  {
   "cell_type": "code",
   "execution_count": 11,
   "id": "6b0955ef",
   "metadata": {},
   "outputs": [
    {
     "name": "stdout",
     "output_type": "stream",
     "text": [
      "name='word_len_plus' description='Считает количество символов в слове и прибавляет к ним числа' args_schema=<class 'langchain_core.utils.pydantic.word_len_plus'> func=<function word_len_plus at 0x729035aa11b0>\n"
     ]
    }
   ],
   "source": [
    "def word_len_plus(word: str, b: int, g: int) -> int:\n",
    "    \"\"\"Считает количество символов в слове и прибавляет к ним числа\"\"\" # Обязательно добавляем docstring\n",
    "    return len(word) + b - g\n",
    "\n",
    "word_len_plus_tool = StructuredTool.from_function(func=word_len_plus)\n",
    "print(word_len_plus_tool)"
   ]
  },
  {
   "cell_type": "code",
   "execution_count": 13,
   "id": "0f321517",
   "metadata": {},
   "outputs": [
    {
     "data": {
      "text/plain": [
       "-4"
      ]
     },
     "execution_count": 13,
     "metadata": {},
     "output_type": "execute_result"
    }
   ],
   "source": [
    "word_len_plus_tool.invoke({'word': 'LLM', 'b': 2, 'g': 9})"
   ]
  },
  {
   "cell_type": "code",
   "execution_count": 16,
   "id": "b6c9c7fc",
   "metadata": {},
   "outputs": [
    {
     "name": "stdout",
     "output_type": "stream",
     "text": [
      "summ\n",
      "Складывает 2 целых числа\n",
      "{'a': {'title': 'A', 'type': 'integer'}, 'b': {'title': 'B', 'type': 'integer'}}\n"
     ]
    }
   ],
   "source": [
    "from langchain_core.tools import  tool\n",
    "\n",
    "@tool\n",
    "def summ(a: int, b: int)-> int:\n",
    "    \"\"\"Складывает 2 целых числа\"\"\"\n",
    "    return a + b\n",
    "print(summ.name)\n",
    "print(summ.description)\n",
    "print(summ.args)"
   ]
  },
  {
   "cell_type": "code",
   "execution_count": 17,
   "id": "1ce5c482",
   "metadata": {},
   "outputs": [
    {
     "data": {
      "text/plain": [
       "8"
      ]
     },
     "execution_count": 17,
     "metadata": {},
     "output_type": "execute_result"
    }
   ],
   "source": [
    "summ.invoke({'a': 3, 'b': 5})"
   ]
  },
  {
   "cell_type": "code",
   "execution_count": 20,
   "id": "c9f96efb",
   "metadata": {},
   "outputs": [
    {
     "ename": "ValidationError",
     "evalue": "1 validation error for summ\nb\n  Input should be a valid integer, unable to parse string as an integer [type=int_parsing, input_value='5.09', input_type=str]\n    For further information visit https://errors.pydantic.dev/2.11/v/int_parsing",
     "output_type": "error",
     "traceback": [
      "\u001b[0;31m---------------------------------------------------------------------------\u001b[0m",
      "\u001b[0;31mValidationError\u001b[0m                           Traceback (most recent call last)",
      "Cell \u001b[0;32mIn[20], line 1\u001b[0m\n\u001b[0;32m----> 1\u001b[0m \u001b[43msumm\u001b[49m\u001b[38;5;241;43m.\u001b[39;49m\u001b[43minvoke\u001b[49m\u001b[43m(\u001b[49m\u001b[43m{\u001b[49m\u001b[38;5;124;43m'\u001b[39;49m\u001b[38;5;124;43ma\u001b[39;49m\u001b[38;5;124;43m'\u001b[39;49m\u001b[43m:\u001b[49m\u001b[43m \u001b[49m\u001b[38;5;241;43m3\u001b[39;49m\u001b[43m,\u001b[49m\u001b[43m \u001b[49m\u001b[38;5;124;43m'\u001b[39;49m\u001b[38;5;124;43mb\u001b[39;49m\u001b[38;5;124;43m'\u001b[39;49m\u001b[43m:\u001b[49m\u001b[43m \u001b[49m\u001b[38;5;124;43m\"\u001b[39;49m\u001b[38;5;124;43m5.09\u001b[39;49m\u001b[38;5;124;43m\"\u001b[39;49m\u001b[43m}\u001b[49m\u001b[43m)\u001b[49m\n",
      "File \u001b[0;32m~/anaconda3/envs/myenv/lib/python3.10/site-packages/langchain_core/tools/base.py:610\u001b[0m, in \u001b[0;36mBaseTool.invoke\u001b[0;34m(self, input, config, **kwargs)\u001b[0m\n\u001b[1;32m    602\u001b[0m \u001b[38;5;129m@override\u001b[39m\n\u001b[1;32m    603\u001b[0m \u001b[38;5;28;01mdef\u001b[39;00m \u001b[38;5;21minvoke\u001b[39m(\n\u001b[1;32m    604\u001b[0m     \u001b[38;5;28mself\u001b[39m,\n\u001b[0;32m   (...)\u001b[0m\n\u001b[1;32m    607\u001b[0m     \u001b[38;5;241m*\u001b[39m\u001b[38;5;241m*\u001b[39mkwargs: Any,\n\u001b[1;32m    608\u001b[0m ) \u001b[38;5;241m-\u001b[39m\u001b[38;5;241m>\u001b[39m Any:\n\u001b[1;32m    609\u001b[0m     tool_input, kwargs \u001b[38;5;241m=\u001b[39m _prep_run_args(\u001b[38;5;28minput\u001b[39m, config, \u001b[38;5;241m*\u001b[39m\u001b[38;5;241m*\u001b[39mkwargs)\n\u001b[0;32m--> 610\u001b[0m     \u001b[38;5;28;01mreturn\u001b[39;00m \u001b[38;5;28;43mself\u001b[39;49m\u001b[38;5;241;43m.\u001b[39;49m\u001b[43mrun\u001b[49m\u001b[43m(\u001b[49m\u001b[43mtool_input\u001b[49m\u001b[43m,\u001b[49m\u001b[43m \u001b[49m\u001b[38;5;241;43m*\u001b[39;49m\u001b[38;5;241;43m*\u001b[39;49m\u001b[43mkwargs\u001b[49m\u001b[43m)\u001b[49m\n",
      "File \u001b[0;32m~/anaconda3/envs/myenv/lib/python3.10/site-packages/langchain_core/tools/base.py:895\u001b[0m, in \u001b[0;36mBaseTool.run\u001b[0;34m(self, tool_input, verbose, start_color, color, callbacks, tags, metadata, run_name, run_id, config, tool_call_id, **kwargs)\u001b[0m\n\u001b[1;32m    893\u001b[0m \u001b[38;5;28;01mif\u001b[39;00m error_to_raise:\n\u001b[1;32m    894\u001b[0m     run_manager\u001b[38;5;241m.\u001b[39mon_tool_error(error_to_raise)\n\u001b[0;32m--> 895\u001b[0m     \u001b[38;5;28;01mraise\u001b[39;00m error_to_raise\n\u001b[1;32m    896\u001b[0m output \u001b[38;5;241m=\u001b[39m _format_output(content, artifact, tool_call_id, \u001b[38;5;28mself\u001b[39m\u001b[38;5;241m.\u001b[39mname, status)\n\u001b[1;32m    897\u001b[0m run_manager\u001b[38;5;241m.\u001b[39mon_tool_end(output, color\u001b[38;5;241m=\u001b[39mcolor, name\u001b[38;5;241m=\u001b[39m\u001b[38;5;28mself\u001b[39m\u001b[38;5;241m.\u001b[39mname, \u001b[38;5;241m*\u001b[39m\u001b[38;5;241m*\u001b[39mkwargs)\n",
      "File \u001b[0;32m~/anaconda3/envs/myenv/lib/python3.10/site-packages/langchain_core/tools/base.py:857\u001b[0m, in \u001b[0;36mBaseTool.run\u001b[0;34m(self, tool_input, verbose, start_color, color, callbacks, tags, metadata, run_name, run_id, config, tool_call_id, **kwargs)\u001b[0m\n\u001b[1;32m    855\u001b[0m child_config \u001b[38;5;241m=\u001b[39m patch_config(config, callbacks\u001b[38;5;241m=\u001b[39mrun_manager\u001b[38;5;241m.\u001b[39mget_child())\n\u001b[1;32m    856\u001b[0m \u001b[38;5;28;01mwith\u001b[39;00m set_config_context(child_config) \u001b[38;5;28;01mas\u001b[39;00m context:\n\u001b[0;32m--> 857\u001b[0m     tool_args, tool_kwargs \u001b[38;5;241m=\u001b[39m \u001b[38;5;28;43mself\u001b[39;49m\u001b[38;5;241;43m.\u001b[39;49m\u001b[43m_to_args_and_kwargs\u001b[49m\u001b[43m(\u001b[49m\n\u001b[1;32m    858\u001b[0m \u001b[43m        \u001b[49m\u001b[43mtool_input\u001b[49m\u001b[43m,\u001b[49m\u001b[43m \u001b[49m\u001b[43mtool_call_id\u001b[49m\n\u001b[1;32m    859\u001b[0m \u001b[43m    \u001b[49m\u001b[43m)\u001b[49m\n\u001b[1;32m    860\u001b[0m     \u001b[38;5;28;01mif\u001b[39;00m signature(\u001b[38;5;28mself\u001b[39m\u001b[38;5;241m.\u001b[39m_run)\u001b[38;5;241m.\u001b[39mparameters\u001b[38;5;241m.\u001b[39mget(\u001b[38;5;124m\"\u001b[39m\u001b[38;5;124mrun_manager\u001b[39m\u001b[38;5;124m\"\u001b[39m):\n\u001b[1;32m    861\u001b[0m         tool_kwargs \u001b[38;5;241m|\u001b[39m\u001b[38;5;241m=\u001b[39m {\u001b[38;5;124m\"\u001b[39m\u001b[38;5;124mrun_manager\u001b[39m\u001b[38;5;124m\"\u001b[39m: run_manager}\n",
      "File \u001b[0;32m~/anaconda3/envs/myenv/lib/python3.10/site-packages/langchain_core/tools/base.py:772\u001b[0m, in \u001b[0;36mBaseTool._to_args_and_kwargs\u001b[0;34m(self, tool_input, tool_call_id)\u001b[0m\n\u001b[1;32m    764\u001b[0m \u001b[38;5;28;01mif\u001b[39;00m (\n\u001b[1;32m    765\u001b[0m     \u001b[38;5;28mself\u001b[39m\u001b[38;5;241m.\u001b[39margs_schema \u001b[38;5;129;01mis\u001b[39;00m \u001b[38;5;129;01mnot\u001b[39;00m \u001b[38;5;28;01mNone\u001b[39;00m\n\u001b[1;32m    766\u001b[0m     \u001b[38;5;129;01mand\u001b[39;00m \u001b[38;5;28misinstance\u001b[39m(\u001b[38;5;28mself\u001b[39m\u001b[38;5;241m.\u001b[39margs_schema, \u001b[38;5;28mtype\u001b[39m)\n\u001b[0;32m   (...)\u001b[0m\n\u001b[1;32m    769\u001b[0m ):\n\u001b[1;32m    770\u001b[0m     \u001b[38;5;66;03m# StructuredTool with no args\u001b[39;00m\n\u001b[1;32m    771\u001b[0m     \u001b[38;5;28;01mreturn\u001b[39;00m (), {}\n\u001b[0;32m--> 772\u001b[0m tool_input \u001b[38;5;241m=\u001b[39m \u001b[38;5;28;43mself\u001b[39;49m\u001b[38;5;241;43m.\u001b[39;49m\u001b[43m_parse_input\u001b[49m\u001b[43m(\u001b[49m\u001b[43mtool_input\u001b[49m\u001b[43m,\u001b[49m\u001b[43m \u001b[49m\u001b[43mtool_call_id\u001b[49m\u001b[43m)\u001b[49m\n\u001b[1;32m    773\u001b[0m \u001b[38;5;66;03m# For backwards compatibility, if run_input is a string,\u001b[39;00m\n\u001b[1;32m    774\u001b[0m \u001b[38;5;66;03m# pass as a positional argument.\u001b[39;00m\n\u001b[1;32m    775\u001b[0m \u001b[38;5;28;01mif\u001b[39;00m \u001b[38;5;28misinstance\u001b[39m(tool_input, \u001b[38;5;28mstr\u001b[39m):\n",
      "File \u001b[0;32m~/anaconda3/envs/myenv/lib/python3.10/site-packages/langchain_core/tools/base.py:676\u001b[0m, in \u001b[0;36mBaseTool._parse_input\u001b[0;34m(self, tool_input, tool_call_id)\u001b[0m\n\u001b[1;32m    674\u001b[0m                 \u001b[38;5;28;01mraise\u001b[39;00m \u001b[38;5;167;01mValueError\u001b[39;00m(msg)\n\u001b[1;32m    675\u001b[0m             tool_input[k] \u001b[38;5;241m=\u001b[39m tool_call_id\n\u001b[0;32m--> 676\u001b[0m     result \u001b[38;5;241m=\u001b[39m \u001b[43minput_args\u001b[49m\u001b[38;5;241;43m.\u001b[39;49m\u001b[43mmodel_validate\u001b[49m\u001b[43m(\u001b[49m\u001b[43mtool_input\u001b[49m\u001b[43m)\u001b[49m\n\u001b[1;32m    677\u001b[0m     result_dict \u001b[38;5;241m=\u001b[39m result\u001b[38;5;241m.\u001b[39mmodel_dump()\n\u001b[1;32m    678\u001b[0m \u001b[38;5;28;01melif\u001b[39;00m \u001b[38;5;28missubclass\u001b[39m(input_args, BaseModelV1):\n",
      "File \u001b[0;32m~/.local/lib/python3.10/site-packages/pydantic/main.py:705\u001b[0m, in \u001b[0;36mBaseModel.model_validate\u001b[0;34m(cls, obj, strict, from_attributes, context, by_alias, by_name)\u001b[0m\n\u001b[1;32m    699\u001b[0m \u001b[38;5;28;01mif\u001b[39;00m by_alias \u001b[38;5;129;01mis\u001b[39;00m \u001b[38;5;28;01mFalse\u001b[39;00m \u001b[38;5;129;01mand\u001b[39;00m by_name \u001b[38;5;129;01mis\u001b[39;00m \u001b[38;5;129;01mnot\u001b[39;00m \u001b[38;5;28;01mTrue\u001b[39;00m:\n\u001b[1;32m    700\u001b[0m     \u001b[38;5;28;01mraise\u001b[39;00m PydanticUserError(\n\u001b[1;32m    701\u001b[0m         \u001b[38;5;124m'\u001b[39m\u001b[38;5;124mAt least one of `by_alias` or `by_name` must be set to True.\u001b[39m\u001b[38;5;124m'\u001b[39m,\n\u001b[1;32m    702\u001b[0m         code\u001b[38;5;241m=\u001b[39m\u001b[38;5;124m'\u001b[39m\u001b[38;5;124mvalidate-by-alias-and-name-false\u001b[39m\u001b[38;5;124m'\u001b[39m,\n\u001b[1;32m    703\u001b[0m     )\n\u001b[0;32m--> 705\u001b[0m \u001b[38;5;28;01mreturn\u001b[39;00m \u001b[38;5;28;43mcls\u001b[39;49m\u001b[38;5;241;43m.\u001b[39;49m\u001b[43m__pydantic_validator__\u001b[49m\u001b[38;5;241;43m.\u001b[39;49m\u001b[43mvalidate_python\u001b[49m\u001b[43m(\u001b[49m\n\u001b[1;32m    706\u001b[0m \u001b[43m    \u001b[49m\u001b[43mobj\u001b[49m\u001b[43m,\u001b[49m\u001b[43m \u001b[49m\u001b[43mstrict\u001b[49m\u001b[38;5;241;43m=\u001b[39;49m\u001b[43mstrict\u001b[49m\u001b[43m,\u001b[49m\u001b[43m \u001b[49m\u001b[43mfrom_attributes\u001b[49m\u001b[38;5;241;43m=\u001b[39;49m\u001b[43mfrom_attributes\u001b[49m\u001b[43m,\u001b[49m\u001b[43m \u001b[49m\u001b[43mcontext\u001b[49m\u001b[38;5;241;43m=\u001b[39;49m\u001b[43mcontext\u001b[49m\u001b[43m,\u001b[49m\u001b[43m \u001b[49m\u001b[43mby_alias\u001b[49m\u001b[38;5;241;43m=\u001b[39;49m\u001b[43mby_alias\u001b[49m\u001b[43m,\u001b[49m\u001b[43m \u001b[49m\u001b[43mby_name\u001b[49m\u001b[38;5;241;43m=\u001b[39;49m\u001b[43mby_name\u001b[49m\n\u001b[1;32m    707\u001b[0m \u001b[43m\u001b[49m\u001b[43m)\u001b[49m\n",
      "\u001b[0;31mValidationError\u001b[0m: 1 validation error for summ\nb\n  Input should be a valid integer, unable to parse string as an integer [type=int_parsing, input_value='5.09', input_type=str]\n    For further information visit https://errors.pydantic.dev/2.11/v/int_parsing"
     ]
    }
   ],
   "source": [
    "summ.invoke({'a': 3, 'b': \"5.09\"})"
   ]
  },
  {
   "cell_type": "code",
   "execution_count": 22,
   "id": "5ba7aacf",
   "metadata": {},
   "outputs": [
    {
     "data": {
      "text/plain": [
       "AIMessage(content='', additional_kwargs={'tool_calls': [{'id': 'call_VSKiiJ6OPCcjTgAiry2qWVHo', 'function': {'arguments': '{\"a\":22,\"b\":17}', 'name': 'summ'}, 'type': 'function'}], 'refusal': None}, response_metadata={'token_usage': {'completion_tokens': 18, 'prompt_tokens': 59, 'total_tokens': 77, 'completion_tokens_details': {'accepted_prediction_tokens': 0, 'audio_tokens': 0, 'reasoning_tokens': 0, 'rejected_prediction_tokens': 0}, 'prompt_tokens_details': {'audio_tokens': 0, 'cached_tokens': 0}}, 'model_name': 'gpt-4.1-nano-2025-04-14', 'system_fingerprint': 'fp_04d3664870', 'id': 'chatcmpl-CMyZ9joM9kw467xVmAxRrz0i31pBK', 'service_tier': 'default', 'finish_reason': 'tool_calls', 'logprobs': None}, id='run--10e58936-e8dd-4056-a28c-9208a4037d0c-0', tool_calls=[{'name': 'summ', 'args': {'a': 22, 'b': 17}, 'id': 'call_VSKiiJ6OPCcjTgAiry2qWVHo', 'type': 'tool_call'}], usage_metadata={'input_tokens': 59, 'output_tokens': 18, 'total_tokens': 77, 'input_token_details': {'audio': 0, 'cache_read': 0}, 'output_token_details': {'audio': 0, 'reasoning': 0}})"
      ]
     },
     "execution_count": 22,
     "metadata": {},
     "output_type": "execute_result"
    }
   ],
   "source": [
    "model_with_tools = llm.bind_tools([summ])\n",
    "response = model_with_tools.invoke(\"Сколько будет двадцать два плюс 17?\")\n",
    "response"
   ]
  },
  {
   "cell_type": "code",
   "execution_count": 23,
   "id": "5e1b6886",
   "metadata": {},
   "outputs": [
    {
     "name": "stdout",
     "output_type": "stream",
     "text": [
      "[{'name': 'summ', 'args': {'a': 22, 'b': 17}, 'id': 'call_VSKiiJ6OPCcjTgAiry2qWVHo', 'type': 'tool_call'}]\n"
     ]
    }
   ],
   "source": [
    "print(response.tool_calls)"
   ]
  },
  {
   "cell_type": "code",
   "execution_count": 24,
   "id": "c9f80e1f",
   "metadata": {},
   "outputs": [
    {
     "data": {
      "text/plain": [
       "ToolMessage(content='39', name='summ', tool_call_id='call_VSKiiJ6OPCcjTgAiry2qWVHo')"
      ]
     },
     "execution_count": 24,
     "metadata": {},
     "output_type": "execute_result"
    }
   ],
   "source": [
    "summ.invoke(response.tool_calls[0])"
   ]
  },
  {
   "cell_type": "code",
   "execution_count": 25,
   "id": "057f23b7",
   "metadata": {},
   "outputs": [
    {
     "data": {
      "text/plain": [
       "AIMessage(content='Столицей Хорватии является Загреб.', additional_kwargs={'refusal': None}, response_metadata={'token_usage': {'completion_tokens': 12, 'prompt_tokens': 58, 'total_tokens': 70, 'completion_tokens_details': {'accepted_prediction_tokens': 0, 'audio_tokens': 0, 'reasoning_tokens': 0, 'rejected_prediction_tokens': 0}, 'prompt_tokens_details': {'audio_tokens': 0, 'cached_tokens': 0}}, 'model_name': 'gpt-4.1-nano-2025-04-14', 'system_fingerprint': 'fp_04d3664870', 'id': 'chatcmpl-CMydVZKdV8NGe9lDae8PVGYO7JArb', 'service_tier': 'default', 'finish_reason': 'stop', 'logprobs': None}, id='run--c70829c0-bc2b-4972-95c7-15f56158d1cb-0', usage_metadata={'input_tokens': 58, 'output_tokens': 12, 'total_tokens': 70, 'input_token_details': {'audio': 0, 'cache_read': 0}, 'output_token_details': {'audio': 0, 'reasoning': 0}})"
      ]
     },
     "execution_count": 25,
     "metadata": {},
     "output_type": "execute_result"
    }
   ],
   "source": [
    "# Спросим нейтральный вопрос - модель выдала ответ, tool_calls не было.\n",
    "model_with_tools.invoke('Какая столица Хорватии?')"
   ]
  },
  {
   "cell_type": "code",
   "execution_count": 26,
   "id": "81a53bcb",
   "metadata": {},
   "outputs": [
    {
     "data": {
      "text/plain": [
       "'В слове \"зачёт\" 5 букв.'"
      ]
     },
     "execution_count": 26,
     "metadata": {},
     "output_type": "execute_result"
    }
   ],
   "source": [
    "llm.invoke(\"Сколько букв в слове зачёт?\").content"
   ]
  },
  {
   "cell_type": "code",
   "execution_count": 27,
   "id": "ea6416d0",
   "metadata": {},
   "outputs": [
    {
     "data": {
      "text/plain": [
       "[{'name': 'get_word_length',\n",
       "  'args': {'word': 'зачёт'},\n",
       "  'id': 'call_QRnK7fsPjVLNIjpNAJzJeZJh',\n",
       "  'type': 'tool_call'}]"
      ]
     },
     "execution_count": 27,
     "metadata": {},
     "output_type": "execute_result"
    }
   ],
   "source": [
    "@tool\n",
    "def get_word_length(word: str) -> int:\n",
    "    \"\"\"Возвращает длину слова\"\"\" # добавляем docstring, чтобмы LLM понимала суть инструмента\n",
    "    return len(word)\n",
    "tools = [get_word_length]\n",
    "\n",
    "model_with_tools = llm.bind_tools(tools)\n",
    "\n",
    "resp = model_with_tools.invoke(\"Сколько букв в слове зачёт?\")\n",
    "resp.tool_calls"
   ]
  },
  {
   "cell_type": "code",
   "execution_count": 29,
   "id": "cf9b24e3",
   "metadata": {},
   "outputs": [
    {
     "name": "stdout",
     "output_type": "stream",
     "text": [
      "content='5' name='get_word_length' tool_call_id='call_QRnK7fsPjVLNIjpNAJzJeZJh'\n"
     ]
    }
   ],
   "source": [
    "tool_message = get_word_length.invoke(resp.tool_calls[0])\n",
    "print(tool_message)"
   ]
  },
  {
   "cell_type": "code",
   "execution_count": 30,
   "id": "3783436f",
   "metadata": {},
   "outputs": [
    {
     "data": {
      "text/plain": [
       "'В слове \"зачёт\" 5 букв.'"
      ]
     },
     "execution_count": 30,
     "metadata": {},
     "output_type": "execute_result"
    }
   ],
   "source": [
    "from langchain_core.messages import HumanMessage\n",
    "\n",
    "# теперь соберём все сообщения вместе \n",
    "# важно чтобы id в tool_calling и ToolMessage совпадали.\n",
    "messages = [\n",
    "    HumanMessage(\"Сколько букв в слове зачёт?\"),\n",
    "    resp,\n",
    "    tool_message\n",
    "]\n",
    "model_with_tools.invoke(messages).content"
   ]
  },
  {
   "cell_type": "code",
   "execution_count": 71,
   "id": "b51078b5",
   "metadata": {},
   "outputs": [],
   "source": [
    "import datetime\n",
    "\n",
    "@tool\n",
    "def get_current_time(nothing: None ) -> str:\n",
    "    \"\"\"Get current time\"\"\" \n",
    "\n",
    "    # Получаем текущее время и дату\n",
    "    now = datetime.datetime.now()\n",
    "    \n",
    "    # Возвращаем текущее время\n",
    "    return now.strftime('%H:%M:%S')\n",
    "\n",
    "\n"
   ]
  },
  {
   "cell_type": "code",
   "execution_count": 61,
   "id": "65c8ffdd",
   "metadata": {},
   "outputs": [],
   "source": [
    "# Загрузим готовые инструменты\n",
    "tools = load_tools([\"wikipedia\", \"llm-math\"], llm=llm)\n",
    "llm_with_tools = llm.bind_tools(tools + [get_current_time])"
   ]
  },
  {
   "cell_type": "code",
   "execution_count": 62,
   "id": "d450d6a1",
   "metadata": {},
   "outputs": [
    {
     "data": {
      "text/plain": [
       "[{'name': 'Calculator',\n",
       "  'args': {'__arg1': 'sqrt(9)'},\n",
       "  'id': 'call_T45angwB4455fZMZvKE9OeK7',\n",
       "  'type': 'tool_call'},\n",
       " {'name': 'wikipedia',\n",
       "  'args': {'query': 'The Beatles'},\n",
       "  'id': 'call_sK2FETl0X0rJggR4cTTr0M8z',\n",
       "  'type': 'tool_call'}]"
      ]
     },
     "execution_count": 62,
     "metadata": {},
     "output_type": "execute_result"
    }
   ],
   "source": [
    "task = \"Извлеки квадратный корень из девяти и назови количество участников группы Beatles. А еще скажи время\"\n",
    "\n",
    "messages = [HumanMessage(task)]\n",
    "\n",
    "response = llm_with_tools.invoke(messages)\n",
    "messages.append(response)\n",
    "response.tool_calls"
   ]
  },
  {
   "cell_type": "code",
   "execution_count": 63,
   "id": "a2752d25",
   "metadata": {},
   "outputs": [
    {
     "data": {
      "text/plain": [
       "[HumanMessage(content='Извлеки квадратный корень из девяти и назови количество участников группы Beatles. А еще скажи время', additional_kwargs={}, response_metadata={}),\n",
       " AIMessage(content='', additional_kwargs={'tool_calls': [{'id': 'call_T45angwB4455fZMZvKE9OeK7', 'function': {'arguments': '{\"__arg1\": \"sqrt(9)\"}', 'name': 'Calculator'}, 'type': 'function'}, {'id': 'call_sK2FETl0X0rJggR4cTTr0M8z', 'function': {'arguments': '{\"query\": \"The Beatles\"}', 'name': 'wikipedia'}, 'type': 'function'}], 'refusal': None}, response_metadata={'token_usage': {'completion_tokens': 50, 'prompt_tokens': 159, 'total_tokens': 209, 'completion_tokens_details': {'accepted_prediction_tokens': 0, 'audio_tokens': 0, 'reasoning_tokens': 0, 'rejected_prediction_tokens': 0}, 'prompt_tokens_details': {'audio_tokens': 0, 'cached_tokens': 0}}, 'model_name': 'gpt-4.1-nano-2025-04-14', 'system_fingerprint': 'fp_04d3664870', 'id': 'chatcmpl-CMz2v56rMMjlR8cR0bCxgPaXqMbor', 'service_tier': 'default', 'finish_reason': 'tool_calls', 'logprobs': None}, id='run--623669ee-47c8-49ee-af7a-f072f5ed5f20-0', tool_calls=[{'name': 'Calculator', 'args': {'__arg1': 'sqrt(9)'}, 'id': 'call_T45angwB4455fZMZvKE9OeK7', 'type': 'tool_call'}, {'name': 'wikipedia', 'args': {'query': 'The Beatles'}, 'id': 'call_sK2FETl0X0rJggR4cTTr0M8z', 'type': 'tool_call'}], usage_metadata={'input_tokens': 159, 'output_tokens': 50, 'total_tokens': 209, 'input_token_details': {'audio': 0, 'cache_read': 0}, 'output_token_details': {'audio': 0, 'reasoning': 0}})]"
      ]
     },
     "execution_count": 63,
     "metadata": {},
     "output_type": "execute_result"
    }
   ],
   "source": [
    "messages"
   ]
  },
  {
   "cell_type": "code",
   "execution_count": 66,
   "id": "65bc31e5",
   "metadata": {},
   "outputs": [
    {
     "name": "stdout",
     "output_type": "stream",
     "text": [
      "Квадратный корень из девяти равен 3. Количество участников группы Beatles — 4. Время, сейчас 15:02.\n"
     ]
    }
   ],
   "source": [
    "# Соберём ToolMessages\n",
    "for tool_call in response.tool_calls:\n",
    "\n",
    "    if tool_call[\"name\"] == 'wikipedia':\n",
    "        tool_msg = tools[0].invoke(tool_call)\n",
    "        \n",
    "    elif tool_call[\"name\"] == 'get_current_time':\n",
    "        tool_msg = get_current_time.invoke(tool_call)\n",
    "        \n",
    "    else:\n",
    "        tool_msg = tools[1].invoke(tool_call)\n",
    "        \n",
    "    messages.append(tool_msg)\n",
    "\n",
    "print(llm_with_tools.invoke(messages).content)"
   ]
  },
  {
   "cell_type": "code",
   "execution_count": 72,
   "id": "562715dd",
   "metadata": {},
   "outputs": [
    {
     "name": "stderr",
     "output_type": "stream",
     "text": [
      "/home/amir/anaconda3/envs/myenv/lib/python3.10/site-packages/langchain_experimental/agents/agent_toolkits/pandas/base.py:283: UserWarning: Received additional kwargs {'tools': [StructuredTool(name='get_current_time', description='Get current time', args_schema=<class 'langchain_core.utils.pydantic.get_current_time'>, func=<function get_current_time at 0x729117d1a170>)]} which are no longer supported.\n",
      "  warnings.warn(\n"
     ]
    },
    {
     "name": "stdout",
     "output_type": "stream",
     "text": [
      "\n",
      "\n",
      "\u001b[1m> Entering new AgentExecutor chain...\u001b[0m\n",
      "\u001b[32;1m\u001b[1;3m\n",
      "Invoking: `python_repl_ast` with `{'query': 'len(df)'}`\n",
      "\n",
      "\n",
      "\u001b[0m\u001b[36;1m\u001b[1;3m891\u001b[0m\u001b[32;1m\u001b[1;3mThere are 891 rows in the dataframe. The current time is not accessible through the provided context. If you want to know the current time in Python, you can run the following code:\n",
      "\n",
      "```python\n",
      "import datetime\n",
      "print(datetime.datetime.now())\n",
      "```\u001b[0m\n",
      "\n",
      "\u001b[1m> Finished chain.\u001b[0m\n"
     ]
    },
    {
     "data": {
      "text/plain": [
       "{'input': 'how many rows are there? And what is current time?',\n",
       " 'output': 'There are 891 rows in the dataframe. The current time is not accessible through the provided context. If you want to know the current time in Python, you can run the following code:\\n\\n```python\\nimport datetime\\nprint(datetime.datetime.now())\\n```'}"
      ]
     },
     "execution_count": 72,
     "metadata": {},
     "output_type": "execute_result"
    }
   ],
   "source": [
    "import pandas as pd\n",
    "from langchain.agents.agent_types import AgentType\n",
    "from langchain_experimental.agents.agent_toolkits import create_pandas_dataframe_agent\n",
    "\n",
    "\n",
    "url = \"https://raw.githubusercontent.com/pandas-dev/pandas/main/doc/data/titanic.csv\"\n",
    "df = pd.read_csv(url)\n",
    "\n",
    "agent = create_pandas_dataframe_agent(\n",
    "    llm,\n",
    "    df,\n",
    "    tools = [get_current_time],\n",
    "    verbose=True,\n",
    "    agent_type=AgentType.OPENAI_FUNCTIONS,\n",
    "    allow_dangerous_code=True\n",
    ")\n",
    "\n",
    "agent.invoke(\"how many rows are there? And what is current time?\")"
   ]
  }
 ],
 "metadata": {
  "kernelspec": {
   "display_name": "myenv",
   "language": "python",
   "name": "python3"
  },
  "language_info": {
   "codemirror_mode": {
    "name": "ipython",
    "version": 3
   },
   "file_extension": ".py",
   "mimetype": "text/x-python",
   "name": "python",
   "nbconvert_exporter": "python",
   "pygments_lexer": "ipython3",
   "version": "3.10.18"
  }
 },
 "nbformat": 4,
 "nbformat_minor": 5
}
