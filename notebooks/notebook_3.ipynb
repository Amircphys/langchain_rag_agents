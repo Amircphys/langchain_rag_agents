{
 "cells": [
  {
   "cell_type": "code",
   "execution_count": 1,
   "id": "63f6a69e",
   "metadata": {},
   "outputs": [
    {
     "name": "stdout",
     "output_type": "stream",
     "text": [
      "/home/amir/study/langchain_vectordb\n"
     ]
    },
    {
     "name": "stderr",
     "output_type": "stream",
     "text": [
      "/home/amir/.local/lib/python3.10/site-packages/IPython/core/magics/osm.py:417: UserWarning: This is now an optional IPython functionality, setting dhist requires you to install the `pickleshare` library.\n",
      "  self.shell.db['dhist'] = compress_dhist(dhist)[-100:]\n"
     ]
    }
   ],
   "source": [
    "cd ../"
   ]
  },
  {
   "cell_type": "code",
   "execution_count": 2,
   "id": "cc653181",
   "metadata": {},
   "outputs": [],
   "source": [
    "import os\n",
    "from dotenv import load_dotenv\n",
    "\n",
    "load_dotenv()\n",
    "\n",
    "api_key: str = os.getenv(\"api_key\", \"\")\n",
    "base_url: str = os.getenv(\"base_url\", \"\")"
   ]
  },
  {
   "cell_type": "code",
   "execution_count": 5,
   "id": "bbfa4a70",
   "metadata": {},
   "outputs": [],
   "source": [
    "from langchain_openai import ChatOpenAI\n",
    "\n",
    "llm = ChatOpenAI(\n",
    "    model=\"gpt-5-nano-2025-08-07\",\n",
    "    api_key=api_key,\n",
    "    base_url=base_url,\n",
    ")"
   ]
  },
  {
   "cell_type": "code",
   "execution_count": 4,
   "id": "0e9c188a",
   "metadata": {},
   "outputs": [
    {
     "name": "stdout",
     "output_type": "stream",
     "text": [
      "Collecting distro\n",
      "  Using cached distro-1.9.0-py3-none-any.whl.metadata (6.8 kB)\n",
      "Using cached distro-1.9.0-py3-none-any.whl (20 kB)\n",
      "Installing collected packages: distro\n",
      "Successfully installed distro-1.9.0\n"
     ]
    }
   ],
   "source": [
    "!pip install distro"
   ]
  },
  {
   "cell_type": "code",
   "execution_count": 6,
   "id": "86fa6512",
   "metadata": {},
   "outputs": [],
   "source": [
    "from langchain_core.chat_history import InMemoryChatMessageHistory\n",
    "from langchain_core.runnables.history import RunnableWithMessageHistory\n",
    "\n",
    "\n",
    "store = {}\n",
    "# Напишем функцию, которая возвращает историю диалога по session ID.\n",
    "def get_session_history(session_id: str) -> InMemoryChatMessageHistory:\n",
    "    if session_id not in store:\n",
    "        store[session_id] = InMemoryChatMessageHistory()\n",
    "    return store[session_id]"
   ]
  },
  {
   "cell_type": "code",
   "execution_count": 7,
   "id": "bab6c352",
   "metadata": {},
   "outputs": [
    {
     "data": {
      "text/plain": [
       "'Привет, Иван! У меня всё хорошо, спасибо. Как твои дела? Чем могу помочь сегодня — могу потренировать русский язык, рассказать что-то на интересную тему, помочь с задачами, написать текст или разобрать код. Что хочешь сделать?'"
      ]
     },
     "execution_count": 7,
     "metadata": {},
     "output_type": "execute_result"
    }
   ],
   "source": [
    "# Создаём конфиг для нашего Runnable, чтобы указать ему session_id при вызове\n",
    "config = {\"configurable\": {\"session_id\": \"1\"}}\n",
    "\n",
    "llm_with_history = RunnableWithMessageHistory(\n",
    "    llm,\n",
    "    get_session_history\n",
    ")\n",
    "# к вызову добавляем параметр config\n",
    "llm_with_history.invoke(\"Привет, ChatGPT! Меня зовут Иван. Как дела?\", config=config).content"
   ]
  },
  {
   "cell_type": "code",
   "execution_count": 8,
   "id": "f5689dad",
   "metadata": {},
   "outputs": [
    {
     "name": "stdout",
     "output_type": "stream",
     "text": [
      "Human: Привет, ChatGPT! Меня зовут Иван. Как дела?\n",
      "AI: Привет, Иван! У меня всё хорошо, спасибо. Как твои дела? Чем могу помочь сегодня — могу потренировать русский язык, рассказать что-то на интересную тему, помочь с задачами, написать текст или разобрать код. Что хочешь сделать?\n"
     ]
    }
   ],
   "source": [
    "# В store появилась первая пара запрос-ответ, и ключ \"1\" - session_id\n",
    "print(store['1'])"
   ]
  },
  {
   "cell_type": "code",
   "execution_count": 9,
   "id": "8abb5be2",
   "metadata": {},
   "outputs": [
    {
     "data": {
      "text/plain": [
       "'Здорово, могу помочь. Опиши, что именно нужно сделать в Python: задача, входные данные, ожидаемый вывод, окружение (версия Python, IDE, OS). Если есть код — пришли его, вместе разберём.\\n\\nЧтобы ускорить процесс, могу предложить несколько форматов взаимодействия:\\n- Напиши задачу, и я дам готовое решение с пояснениями.\\n- Пришли свой код — найдём баги, улучшим стиль и читаемость.\\n- Объясню концепцию или паттерны (функции, обработка исключений, тесты и т.д.).\\n- Сделаем пошаговую отработку задачи: план, минимальный пример, тесты, рефакторинг.\\n\\nЕсли хочешь сразу попрактиковаться, вот пару простых примеров задач и готовых решений (без слишком сложной логики):\\n\\n- Сумма элементов списка\\n  def sum_list(nums):\\n      return sum(nums)\\n\\n- Факториал (итеративно)\\n  def factorial(n):\\n      if n < 0:\\n          raise ValueError(\"n должен быть неотрицательным\")\\n      result = 1\\n      for i in range(2, n + 1):\\n          result *= i\\n      return result\\n\\n- Уникальные элементы в порядке их появления\\n  def unique_preserve_order(seq):\\n      seen = set()\\n      res = []\\n      for x in seq:\\n          if x not in seen:\\n              seen.add(x)\\n              res.append(x)\\n      return res\\n\\nСкажи, какой из форматов тебе удобнее, или опиши свою задачу — начнём работать прямо сейчас.'"
      ]
     },
     "execution_count": 9,
     "metadata": {},
     "output_type": "execute_result"
    }
   ],
   "source": [
    "llm_with_history.invoke(\"Сможешь помочь мне в написании кода на Python?\", config=config).content"
   ]
  },
  {
   "cell_type": "code",
   "execution_count": 11,
   "id": "831e2fbd",
   "metadata": {},
   "outputs": [
    {
     "data": {
      "text/plain": [
       "'Вот простой пример для Python 3:\\n\\n- print(\"Hello, world!\")\\n\\nЕсли нужно вывести фразу с кавычками внутри, используйте эскейп-символы или другой вид кавычек:\\n- print(\"\\'Hello, world!\\'\")  выводит: \\'Hello, world!\\'\\n- print(\\'\"Hello, world!\"\\')  выводит: \"Hello, world!\"\\n\\nКак запустить:\\n- Сохраните файл, например, hello.py, с содержимым print(\"Hello, world!\").\\n- Запустите в терминале: python3 hello.py\\n\\nЕсли нужна версия под Python 2, тогда можно писать: print \"Hello, world!\" (но Python 2 устарел и стоит использовать Python 3).'"
      ]
     },
     "execution_count": 11,
     "metadata": {},
     "output_type": "execute_result"
    }
   ],
   "source": [
    "llm_with_history.invoke(\"Как вывести на экран фразу 'Hello, world!'?\", config=config).content"
   ]
  },
  {
   "cell_type": "code",
   "execution_count": 13,
   "id": "3d0eed60",
   "metadata": {},
   "outputs": [
    {
     "data": {
      "text/plain": [
       "'Тебя зовут Иван. \\n\\nЕсли хочешь, могу называть тебя по имени в рамках этой беседы. Чем могу помочь дальше?'"
      ]
     },
     "execution_count": 13,
     "metadata": {},
     "output_type": "execute_result"
    }
   ],
   "source": [
    "llm_with_history.invoke(\"Как меня зовут?\", config=config).content"
   ]
  },
  {
   "cell_type": "code",
   "execution_count": 14,
   "id": "55d7a3b4",
   "metadata": {},
   "outputs": [
    {
     "data": {
      "text/plain": [
       "{'1': InMemoryChatMessageHistory(messages=[])}"
      ]
     },
     "execution_count": 14,
     "metadata": {},
     "output_type": "execute_result"
    }
   ],
   "source": [
    "# Очистить историю диалога сессии можно методом clear()\n",
    "get_session_history('1').clear()\n",
    "store"
   ]
  },
  {
   "cell_type": "code",
   "execution_count": 15,
   "id": "1b0884dd",
   "metadata": {},
   "outputs": [
    {
     "data": {
      "text/plain": [
       "'Не знаю вашего имени по умолчанию. Скажите, как вам удобнее, чтобы я к вам обращался: назовите имя или ник, который использовать в этом чате, и я буду обращаться именно так. Если не хотите называть имя, можно и без него. Замечу, что между сеансами я не запоминаю данные, так что повторно нужно указывать имя в новом разговоре.'"
      ]
     },
     "execution_count": 15,
     "metadata": {},
     "output_type": "execute_result"
    }
   ],
   "source": [
    "llm_with_history.invoke(\"Как меня зовут?\", config=config).content"
   ]
  },
  {
   "cell_type": "code",
   "execution_count": 17,
   "id": "dfa31e22",
   "metadata": {},
   "outputs": [
    {
     "name": "stdout",
     "output_type": "stream",
     "text": [
      "Human: Привет меня зовут Абдулла?\n",
      "AI: Привет, Абдулла. Чем могу помочь?\n"
     ]
    }
   ],
   "source": [
    "from langchain_core.messages import HumanMessage, AIMessage\n",
    "\n",
    "get_session_history('1').clear()\n",
    "\n",
    "user_message = HumanMessage(content=\"Привет меня зовут Абдулла?\")\n",
    "ai_message = AIMessage(content=\"Привет, Абдулла. Чем могу помочь?\")\n",
    "\n",
    "get_session_history('1').add_messages([user_message, ai_message])\n",
    "\n",
    "print(store['1'])"
   ]
  },
  {
   "cell_type": "code",
   "execution_count": 18,
   "id": "a13b1c1f",
   "metadata": {},
   "outputs": [
    {
     "data": {
      "text/plain": [
       "'Вы — Абдулла. Чем могу помочь?'"
      ]
     },
     "execution_count": 18,
     "metadata": {},
     "output_type": "execute_result"
    }
   ],
   "source": [
    "llm_with_history.invoke(\"Как меня зовут?\", config=config).content"
   ]
  },
  {
   "cell_type": "code",
   "execution_count": null,
   "id": "79c34336",
   "metadata": {},
   "outputs": [],
   "source": []
  },
  {
   "cell_type": "code",
   "execution_count": 22,
   "id": "3410d122",
   "metadata": {},
   "outputs": [
    {
     "data": {
      "text/plain": [
       "'1/2 (0.5).\\n\\nОбоснование: в треугольнике 30–60–90 отношение противоположной стороны к гипотенузе равно 1:2, значит sin 30° = 1/2. Также на единичной окружности sin(π/6) = 1/2.'"
      ]
     },
     "execution_count": 22,
     "metadata": {},
     "output_type": "execute_result"
    }
   ],
   "source": [
    "from langchain_core.prompts import ChatPromptTemplate, MessagesPlaceholder\n",
    "\n",
    "# Создадим шаблон промпта для ассистента\n",
    "# Оставим в шаблоне \"заглушку\" - MessagesPlaceholder, в которую будет подставляться история диалога\n",
    "prompt = ChatPromptTemplate.from_messages([\n",
    "    (\"system\", \"Ты полезный ассистент, отлично разбирающийся в {topic}\"),\n",
    "    MessagesPlaceholder(variable_name=\"chat_history\"),\n",
    "    (\"human\", \"{question}\"),\n",
    "])\n",
    "\n",
    "chain = prompt | llm\n",
    "\n",
    "chain_with_history = RunnableWithMessageHistory(\n",
    "    chain,\n",
    "    get_session_history,\n",
    "    input_messages_key='topic',\n",
    "    history_messages_key='chat_history',\n",
    "    \n",
    ")\n",
    "chain_with_history.invoke(\n",
    "{\"topic\": \"математика\", \"question\": \"Чему равен синус 30 градусов?\"},\n",
    "config={\"configurable\": {\"session_id\": \"2\"}}).content"
   ]
  },
  {
   "cell_type": "code",
   "execution_count": 23,
   "id": "57959793",
   "metadata": {},
   "outputs": [
    {
     "data": {
      "text/plain": [
       "'Косинус зависит от угла.\\n\\n- Для угла 30°: cos 30° = adjacent/hypotenuse = √3/2 ≈ 0.866.\\n- Для угла 60°: cos 60° = 1/2 = 0.5.\\n\\nНа единичной окружности: cos(π/6) = √3/2, cos(π/3) = 1/2.\\n\\nЕсли имелось в виду другой угол, скажи какой, уточню.'"
      ]
     },
     "execution_count": 23,
     "metadata": {},
     "output_type": "execute_result"
    }
   ],
   "source": [
    "chain_with_history.invoke(\n",
    "    {\"topic\": \"математика\", \"question\": \"А чему равен косинус?\"},\n",
    "    config={\"configurable\": {\"session_id\": \"2\"}}).content"
   ]
  },
  {
   "cell_type": "code",
   "execution_count": 24,
   "id": "7102b7ad",
   "metadata": {},
   "outputs": [
    {
     "name": "stdout",
     "output_type": "stream",
     "text": [
      "Human: математика\n",
      "AI: 1/2 (0.5).\n",
      "\n",
      "Обоснование: в треугольнике 30–60–90 отношение противоположной стороны к гипотенузе равно 1:2, значит sin 30° = 1/2. Также на единичной окружности sin(π/6) = 1/2.\n",
      "Human: математика\n",
      "AI: Косинус зависит от угла.\n",
      "\n",
      "- Для угла 30°: cos 30° = adjacent/hypotenuse = √3/2 ≈ 0.866.\n",
      "- Для угла 60°: cos 60° = 1/2 = 0.5.\n",
      "\n",
      "На единичной окружности: cos(π/6) = √3/2, cos(π/3) = 1/2.\n",
      "\n",
      "Если имелось в виду другой угол, скажи какой, уточню.\n"
     ]
    }
   ],
   "source": [
    "print(store['2'])"
   ]
  },
  {
   "cell_type": "code",
   "execution_count": null,
   "id": "5b4274e3",
   "metadata": {},
   "outputs": [],
   "source": []
  }
 ],
 "metadata": {
  "kernelspec": {
   "display_name": "myenv",
   "language": "python",
   "name": "python3"
  },
  "language_info": {
   "codemirror_mode": {
    "name": "ipython",
    "version": 3
   },
   "file_extension": ".py",
   "mimetype": "text/x-python",
   "name": "python",
   "nbconvert_exporter": "python",
   "pygments_lexer": "ipython3",
   "version": "3.10.18"
  }
 },
 "nbformat": 4,
 "nbformat_minor": 5
}
