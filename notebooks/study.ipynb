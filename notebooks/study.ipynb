{
 "cells": [
  {
   "cell_type": "code",
   "execution_count": 23,
   "id": "64d40fed",
   "metadata": {},
   "outputs": [],
   "source": [
    "import os\n",
    "from dotenv import load_dotenv\n",
    "from langchain_openai import ChatOpenAI\n",
    "from langchain import FewShotPromptTemplate\n",
    "from langchain.prompts import ChatPromptTemplate\n",
    "\n",
    "\n",
    "load_dotenv()\n",
    "\n",
    "api_key: str = os.getenv(\"api_key\", \"\")\n",
    "base_url: str = os.getenv(\"base_url\", \"\")\n",
    "\n",
    "\n",
    "MODEL_NAMES = [\n",
    "    \"gpt-5-nano-2025-08-07\",\n",
    "    \"gpt-5-mini-2025-08-07\",\n",
    "    \"gpt-5-chat-latest\"\n",
    "    \n",
    "]\n",
    "\n",
    "\n",
    "def get_chat_ans(model_name: str, prompt):\n",
    "    chat = ChatOpenAI(\n",
    "        model = model_name,\n",
    "        api_key=api_key,\n",
    "        base_url=base_url,\n",
    "    )\n",
    "    ans = chat.invoke(prompt)\n",
    "    return ans.content\n",
    "\n",
    "def write_ans(ans: str, file_path: str):\n",
    "    with open(file_path, 'w', encoding=\"utf-8\") as file:\n",
    "        file.write(ans)\n",
    "    "
   ]
  },
  {
   "cell_type": "code",
   "execution_count": 26,
   "id": "2d1ed8eb",
   "metadata": {},
   "outputs": [],
   "source": [
    "template = \"\"\" \n",
    "Пожалуйста, выступи вроде моего хорошего и доброго учителя по теме {theme}.\n",
    "Меня интересует следующий вопрос: {question}\n",
    "\n",
    "Пожалуйста, напиши мне подробный, хороший, полезный контекст по данному вопросу.\n",
    "Учти что я собираюсь работать в качестве ML-инженера, так что мне нужен подробный конспект ( и доступный)) )\n",
    "Изложение  должно быть живым, а не сухим академическим (добавь красивые примеры!!!)\n",
    "\"\"\"\n",
    "prompt_template = ChatPromptTemplate.from_template(template)\n",
    "prompt = prompt_template.format_messages(\n",
    "    theme = \"# Использование LLM для продакшын\",\n",
    "    question = \"\"\"\n",
    "    Библиотека langchain. Темы:\n",
    "        1. Парсер заданных полей в ответе\n",
    "        2. StructuredOutputParser\n",
    "    \"\"\"\n",
    ")\n",
    "\n",
    "# print(prompt[0].content)\n",
    "ans_2 = get_chat_ans(MODEL_NAMES[1], prompt)"
   ]
  },
  {
   "cell_type": "code",
   "execution_count": 27,
   "id": "a4cdac84",
   "metadata": {},
   "outputs": [],
   "source": [
    "write_ans(ans=ans_2, file_path=\"../conspects/2_langchain_structured_output.md\")"
   ]
  },
  {
   "cell_type": "code",
   "execution_count": null,
   "id": "2ab700a4",
   "metadata": {},
   "outputs": [],
   "source": []
  },
  {
   "cell_type": "code",
   "execution_count": null,
   "id": "60fd5745",
   "metadata": {},
   "outputs": [],
   "source": []
  },
  {
   "cell_type": "code",
   "execution_count": null,
   "id": "484dd6af",
   "metadata": {},
   "outputs": [],
   "source": []
  }
 ],
 "metadata": {
  "kernelspec": {
   "display_name": "langchain-vectordb-Chhx0xS9-py3.10",
   "language": "python",
   "name": "python3"
  },
  "language_info": {
   "codemirror_mode": {
    "name": "ipython",
    "version": 3
   },
   "file_extension": ".py",
   "mimetype": "text/x-python",
   "name": "python",
   "nbconvert_exporter": "python",
   "pygments_lexer": "ipython3",
   "version": "3.10.12"
  }
 },
 "nbformat": 4,
 "nbformat_minor": 5
}
